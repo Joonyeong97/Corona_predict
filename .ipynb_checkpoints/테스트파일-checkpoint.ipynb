{
 "cells": [
  {
   "cell_type": "code",
   "execution_count": 1,
   "metadata": {},
   "outputs": [],
   "source": [
    "from selenium import webdriver\n",
    "from selenium.webdriver.common.keys import Keys\n",
    "import time\n",
    "from tqdm import tqdm\n",
    "import pandas as pd\n",
    "import re"
   ]
  },
  {
   "cell_type": "code",
   "execution_count": 2,
   "metadata": {},
   "outputs": [],
   "source": [
    "def cleanText(readData):\n",
    "    # 텍스트에 포함되어 있는 특수 문자 제거\n",
    "    text = re.sub('[-=+,#/\\?:^$.@*\\\"※~&%ㆍ!』\\\\‘|\\(\\)\\[\\]\\<\\>`\\'…》]', '', readData)\n",
    "    return text"
   ]
  },
  {
   "cell_type": "code",
   "execution_count": 21,
   "metadata": {},
   "outputs": [
    {
     "name": "stdout",
     "output_type": "stream",
     "text": [
      "접속중\n",
      "17,399\n"
     ]
    }
   ],
   "source": [
    "today = time.strftime('%Y-%m-%d', time.localtime(time.time()))\n",
    "date2 = time.strftime('%Y%m%d', time.localtime(time.time()))\n",
    "# 코로나 바이러스\n",
    "keyword = \"코로나\"\n",
    "result = {}\n",
    "\n",
    "# 웹접속 - 네이버 이미지 접속\n",
    "# 84.0.4147.30 / chrome version\n",
    "print(\"접속중\")\n",
    "driver = webdriver.Chrome(executable_path=\"./chromedriver.exe\")\n",
    "driver.implicitly_wait(30)\n",
    "\n",
    "url = 'https://search.naver.com/search.naver?sm=top_hty&fbm=1&ie=utf8&query={}'.format(keyword)\n",
    "driver.get(url)\n",
    "\n",
    "hwak = driver.find_elements_by_css_selector('#_cs_production_type > div:nth-child(6) > div.status_info > ul > li.info_01 > p')\n",
    "scan = driver.find_elements_by_css_selector('#_cs_production_type > div:nth-child(6) > div.status_info > ul > li.info_02 > p')\n",
    "reco = driver.find_elements_by_css_selector('#_cs_production_type > div:nth-child(6) > div.status_info > ul > li.info_03 > p')\n",
    "dead = driver.find_elements_by_css_selector('#_cs_production_type > div:nth-child(6) > div.status_info > ul > li.info_04 > p')\n",
    "\n",
    "\n",
    "for h,s,r,d in zip(hwak,scan,reco,dead):\n",
    "    result['date'] = str(today)\n",
    "    result['patient'] = cleanText(h.text)\n",
    "    result['check_corona'] = cleanText(s.text)\n",
    "    result['recovery'] = cleanText(r.text)\n",
    "    result['dead'] = cleanText(d.text)\n",
    "    \n",
    "#text3 = driver.find_elements_by_css_selector('strong.num')\n",
    "driver.close()"
   ]
  },
  {
   "cell_type": "code",
   "execution_count": 4,
   "metadata": {},
   "outputs": [],
   "source": [
    "output_file = pd.DataFrame(result,index=[0])"
   ]
  },
  {
   "cell_type": "markdown",
   "metadata": {},
   "source": [
    "output_file = output_file.append(output_file)"
   ]
  },
  {
   "cell_type": "code",
   "execution_count": 13,
   "metadata": {},
   "outputs": [],
   "source": [
    "df_korea = pd.read_csv('corona.csv')"
   ]
  },
  {
   "cell_type": "code",
   "execution_count": 20,
   "metadata": {},
   "outputs": [],
   "source": [
    "if df_korea.loc[-1:,'date'].item() == today:\n",
    "    df_korea = df_korea.drop(df_korea.iloc[-1:].index,axis=0)\n",
    "    df_korea = df_korea.append(output_file)\n",
    "    df_korea.to_csv('corona.csv',index=False)\n",
    "else:\n",
    "    df_korea = df_korea.append(output_file)\n",
    "    df_korea.to_csv('corona.csv',index=False)"
   ]
  },
  {
   "cell_type": "code",
   "execution_count": null,
   "metadata": {},
   "outputs": [],
   "source": []
  },
  {
   "cell_type": "code",
   "execution_count": 10,
   "metadata": {},
   "outputs": [
    {
     "data": {
      "text/html": [
       "<div>\n",
       "<style scoped>\n",
       "    .dataframe tbody tr th:only-of-type {\n",
       "        vertical-align: middle;\n",
       "    }\n",
       "\n",
       "    .dataframe tbody tr th {\n",
       "        vertical-align: top;\n",
       "    }\n",
       "\n",
       "    .dataframe thead th {\n",
       "        text-align: right;\n",
       "    }\n",
       "</style>\n",
       "<table border=\"1\" class=\"dataframe\">\n",
       "  <thead>\n",
       "    <tr style=\"text-align: right;\">\n",
       "      <th></th>\n",
       "      <th>date</th>\n",
       "      <th>patient</th>\n",
       "      <th>check_corona</th>\n",
       "      <th>recovery</th>\n",
       "      <th>dead</th>\n",
       "    </tr>\n",
       "  </thead>\n",
       "  <tbody>\n",
       "  </tbody>\n",
       "</table>\n",
       "</div>"
      ],
      "text/plain": [
       "Empty DataFrame\n",
       "Columns: [date, patient, check_corona, recovery, dead]\n",
       "Index: []"
      ]
     },
     "execution_count": 10,
     "metadata": {},
     "output_type": "execute_result"
    }
   ],
   "source": [
    "output_file.drop(output_file.iloc[-1:].index,axis=0)"
   ]
  },
  {
   "cell_type": "code",
   "execution_count": 42,
   "metadata": {},
   "outputs": [
    {
     "data": {
      "text/plain": [
       "date    False\n",
       "Name: 68, dtype: bool"
      ]
     },
     "execution_count": 42,
     "metadata": {},
     "output_type": "execute_result"
    }
   ],
   "source": [
    "daa == result['date']"
   ]
  },
  {
   "cell_type": "code",
   "execution_count": 47,
   "metadata": {},
   "outputs": [
    {
     "data": {
      "text/plain": [
       "date    True\n",
       "Name: 68, dtype: bool"
      ]
     },
     "execution_count": 47,
     "metadata": {},
     "output_type": "execute_result"
    }
   ],
   "source": [
    "daa == '2020-03-30'"
   ]
  },
  {
   "cell_type": "code",
   "execution_count": 44,
   "metadata": {},
   "outputs": [
    {
     "data": {
      "text/plain": [
       "'2020-08-23'"
      ]
     },
     "execution_count": 44,
     "metadata": {},
     "output_type": "execute_result"
    }
   ],
   "source": [
    "result['date']"
   ]
  },
  {
   "cell_type": "code",
   "execution_count": null,
   "metadata": {},
   "outputs": [],
   "source": []
  }
 ],
 "metadata": {
  "kernelspec": {
   "display_name": "Python 3",
   "language": "python",
   "name": "python3"
  },
  "language_info": {
   "codemirror_mode": {
    "name": "ipython",
    "version": 3
   },
   "file_extension": ".py",
   "mimetype": "text/x-python",
   "name": "python",
   "nbconvert_exporter": "python",
   "pygments_lexer": "ipython3",
   "version": "3.7.6"
  }
 },
 "nbformat": 4,
 "nbformat_minor": 4
}
